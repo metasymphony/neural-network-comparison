{
 "cells": [
  {
   "cell_type": "markdown",
   "metadata": {},
   "source": [
    "CSV FILES NEEDED: fornn_3.csv, sw_final.csv\n",
    "\n",
    "Stop words are selected by finding the most common words in \"good\" and \"bad\" comments, and removing those with high occurences in both [ see stop_words.ipynb ]\n"
   ]
  },
  {
   "cell_type": "code",
   "execution_count": 1,
   "metadata": {},
   "outputs": [
    {
     "data": {
      "application/javascript": [
       "IPython.notebook.set_autosave_interval(10000)"
      ]
     },
     "metadata": {},
     "output_type": "display_data"
    },
    {
     "name": "stdout",
     "output_type": "stream",
     "text": [
      "Autosaving every 10 seconds\n"
     ]
    }
   ],
   "source": [
    "import pandas as pd\n",
    "import numpy as np\n",
    "import scipy.stats as stats\n",
    "# import matplotlib.pyplot as plt\n",
    "import csv\n",
    "# import string\n",
    "# import re\n",
    "\n",
    "from sklearn.feature_extraction.text import CountVectorizer\n",
    "from collections import Counter\n",
    "from sklearn.model_selection import train_test_split\n",
    "from sklearn.neural_network import MLPClassifier\n",
    "from sklearn.metrics import confusion_matrix\n",
    "\n",
    "\n",
    "\n",
    "\n",
    "# plt.style.use('bmh')\n",
    "# sns.set_style('whitegrid')\n",
    "\n",
    "# pd.set_option('display.max_columns', 2000)\n",
    "# pd.set_option('display.max_rows', 4000)\n",
    "# pd.set_option('display.max_colwidth', 20000)\n",
    "# pd.set_option('')\n",
    "\n",
    "\n",
    "#pd.options.display.max_colwidth\n",
    "\n",
    "import warnings\n",
    "warnings.filterwarnings('ignore')\n",
    "#warnings.filterwarnings(action='once')\n",
    "\n",
    "\n",
    "\n",
    "%matplotlib inline\n",
    "%config InlineBackend.figure_format = 'retina'\n",
    "%autosave 10"
   ]
  },
  {
   "cell_type": "code",
   "execution_count": 2,
   "metadata": {},
   "outputs": [
    {
     "data": {
      "text/html": [
       "<div>\n",
       "<style>\n",
       "    .dataframe thead tr:only-child th {\n",
       "        text-align: right;\n",
       "    }\n",
       "\n",
       "    .dataframe thead th {\n",
       "        text-align: left;\n",
       "    }\n",
       "\n",
       "    .dataframe tbody tr th {\n",
       "        vertical-align: top;\n",
       "    }\n",
       "</style>\n",
       "<table border=\"1\" class=\"dataframe\">\n",
       "  <thead>\n",
       "    <tr style=\"text-align: right;\">\n",
       "      <th></th>\n",
       "      <th>id</th>\n",
       "      <th>toxic</th>\n",
       "      <th>severe_toxic</th>\n",
       "      <th>obscene</th>\n",
       "      <th>threat_comment</th>\n",
       "      <th>insult_comment</th>\n",
       "      <th>identity_hate</th>\n",
       "      <th>problem_comment</th>\n",
       "      <th>leng</th>\n",
       "      <th>CAPS</th>\n",
       "      <th>q_marks</th>\n",
       "      <th>x_marks</th>\n",
       "      <th>comment_text_1</th>\n",
       "      <th>BadWords</th>\n",
       "    </tr>\n",
       "  </thead>\n",
       "  <tbody>\n",
       "    <tr>\n",
       "      <th>0</th>\n",
       "      <td>22256635</td>\n",
       "      <td>1</td>\n",
       "      <td>0</td>\n",
       "      <td>0</td>\n",
       "      <td>0</td>\n",
       "      <td>0</td>\n",
       "      <td>0</td>\n",
       "      <td>1</td>\n",
       "      <td>83</td>\n",
       "      <td>3</td>\n",
       "      <td>1</td>\n",
       "      <td>0</td>\n",
       "      <td>nonsense  kiss off geek what i said is true  i...</td>\n",
       "      <td>1</td>\n",
       "    </tr>\n",
       "  </tbody>\n",
       "</table>\n",
       "</div>"
      ],
      "text/plain": [
       "         id  toxic  severe_toxic  obscene  threat_comment  insult_comment  \\\n",
       "0  22256635      1             0        0               0               0   \n",
       "\n",
       "   identity_hate  problem_comment  leng  CAPS  q_marks  x_marks  \\\n",
       "0              0                1    83     3        1        0   \n",
       "\n",
       "                                      comment_text_1  BadWords  \n",
       "0  nonsense  kiss off geek what i said is true  i...         1  "
      ]
     },
     "execution_count": 2,
     "metadata": {},
     "output_type": "execute_result"
    }
   ],
   "source": [
    "train = pd.read_csv('fornn_3.csv')\n",
    "\n",
    "train = train.rename(columns={'threat': 'threat_comment', 'insult': 'insult_comment'})\n",
    "\n",
    "train.head(1)"
   ]
  },
  {
   "cell_type": "code",
   "execution_count": 3,
   "metadata": {},
   "outputs": [
    {
     "data": {
      "text/plain": [
       "0             a\n",
       "1         about\n",
       "2         above\n",
       "3        across\n",
       "4         after\n",
       "5    afterwards\n",
       "6         again\n",
       "7       against\n",
       "8           all\n",
       "9        almost\n",
       "Name: 0, dtype: object"
      ]
     },
     "execution_count": 3,
     "metadata": {},
     "output_type": "execute_result"
    }
   ],
   "source": [
    "sw = pd.read_csv('sw_final.csv')\n",
    "\n",
    "sw['0'].head(10)"
   ]
  },
  {
   "cell_type": "code",
   "execution_count": 4,
   "metadata": {
    "collapsed": true
   },
   "outputs": [],
   "source": [
    "sw_final = list(sw['0'])"
   ]
  },
  {
   "cell_type": "code",
   "execution_count": 5,
   "metadata": {
    "collapsed": true
   },
   "outputs": [],
   "source": [
    "#print(sw_final)"
   ]
  },
  {
   "cell_type": "code",
   "execution_count": 6,
   "metadata": {
    "collapsed": true
   },
   "outputs": [],
   "source": [
    "# max_features=2000, min_df=1 got 0.95242814667988107 (previous best)\n",
    "# max_features=4000, min_df=1 got 0.95336706483751499 (BEST)\n",
    "# max_features=8000 got 0.89791873141724476 (awful)\n",
    "\n",
    "########## max_features=4000, min_df=2 got 0.95310625423817219 \n",
    "##########(NOT best, but using this to prevent overfit. )\n",
    "\n",
    "#  '(?u)\\\\b\\\\w\\\\w+\\\\b'\n",
    "\n",
    "# r\"\\b\\w\\w+[']?\\w?\\b\"\n",
    "\n",
    "cvec = CountVectorizer(analyzer='word', binary=False, decode_error='strict',\n",
    "        encoding='utf-8', input='content',\n",
    "        lowercase=False, max_df=1.0, max_features=4000, min_df=2,\n",
    "        ngram_range=(1, 1), preprocessor=None, stop_words=sw_final,\n",
    "        strip_accents=None, token_pattern=r\"\\b\\w\\w+[']?\\w+?\\b\",\n",
    "        tokenizer=None, vocabulary=None)\n",
    "\n",
    "temp = cvec.fit_transform(train['comment_text_1'])\n",
    "\n",
    "df  = pd.DataFrame(temp.todense(),\n",
    "             columns=cvec.get_feature_names())"
   ]
  },
  {
   "cell_type": "code",
   "execution_count": 7,
   "metadata": {
    "collapsed": true
   },
   "outputs": [],
   "source": [
    "df1 = pd.concat([train, df], axis = 1)"
   ]
  },
  {
   "cell_type": "code",
   "execution_count": 8,
   "metadata": {},
   "outputs": [
    {
     "data": {
      "text/html": [
       "<div>\n",
       "<style>\n",
       "    .dataframe thead tr:only-child th {\n",
       "        text-align: right;\n",
       "    }\n",
       "\n",
       "    .dataframe thead th {\n",
       "        text-align: left;\n",
       "    }\n",
       "\n",
       "    .dataframe tbody tr th {\n",
       "        vertical-align: top;\n",
       "    }\n",
       "</style>\n",
       "<table border=\"1\" class=\"dataframe\">\n",
       "  <thead>\n",
       "    <tr style=\"text-align: right;\">\n",
       "      <th></th>\n",
       "      <th>id</th>\n",
       "      <th>toxic</th>\n",
       "      <th>severe_toxic</th>\n",
       "      <th>obscene</th>\n",
       "      <th>threat_comment</th>\n",
       "      <th>insult_comment</th>\n",
       "      <th>identity_hate</th>\n",
       "      <th>problem_comment</th>\n",
       "      <th>leng</th>\n",
       "      <th>CAPS</th>\n",
       "      <th>...</th>\n",
       "      <th>younger</th>\n",
       "      <th>youre</th>\n",
       "      <th>yourselfgo</th>\n",
       "      <th>youth</th>\n",
       "      <th>youtube</th>\n",
       "      <th>yugoslavia</th>\n",
       "      <th>zealand</th>\n",
       "      <th>zero</th>\n",
       "      <th>zionist</th>\n",
       "      <th>zone</th>\n",
       "    </tr>\n",
       "  </thead>\n",
       "  <tbody>\n",
       "    <tr>\n",
       "      <th>0</th>\n",
       "      <td>22256635</td>\n",
       "      <td>1</td>\n",
       "      <td>0</td>\n",
       "      <td>0</td>\n",
       "      <td>0</td>\n",
       "      <td>0</td>\n",
       "      <td>0</td>\n",
       "      <td>1</td>\n",
       "      <td>83</td>\n",
       "      <td>3</td>\n",
       "      <td>...</td>\n",
       "      <td>0</td>\n",
       "      <td>0</td>\n",
       "      <td>0</td>\n",
       "      <td>0</td>\n",
       "      <td>0</td>\n",
       "      <td>0</td>\n",
       "      <td>0</td>\n",
       "      <td>0</td>\n",
       "      <td>0</td>\n",
       "      <td>0</td>\n",
       "    </tr>\n",
       "  </tbody>\n",
       "</table>\n",
       "<p>1 rows × 4014 columns</p>\n",
       "</div>"
      ],
      "text/plain": [
       "         id  toxic  severe_toxic  obscene  threat_comment  insult_comment  \\\n",
       "0  22256635      1             0        0               0               0   \n",
       "\n",
       "   identity_hate  problem_comment  leng  CAPS  ...   younger  youre  \\\n",
       "0              0                1    83     3  ...         0      0   \n",
       "\n",
       "  yourselfgo  youth  youtube  yugoslavia  zealand  zero  zionist  zone  \n",
       "0          0      0        0           0        0     0        0     0  \n",
       "\n",
       "[1 rows x 4014 columns]"
      ]
     },
     "execution_count": 8,
     "metadata": {},
     "output_type": "execute_result"
    }
   ],
   "source": [
    "df1.head(1)"
   ]
  },
  {
   "cell_type": "code",
   "execution_count": 9,
   "metadata": {
    "collapsed": true
   },
   "outputs": [],
   "source": [
    "##### TARGET 'problem_comment' ##### accuracy 0.95310625423817219\n",
    "## 'problem_comment' comments flagged ::  1298 comments out of 1957 ::  66.33 %\n",
    "\n",
    "#~~~~~~~~~~~~~~~~~~~~~~~~~~~~~~~~~~~~~~~~~~~~~~~~~~~~~~~~~~~~~~~~~~~~~~~~~~~~~~~~~~~~~~~~~~~~#\n",
    "#### TARGET 'toxic' ##### accuracy 0.95055031036461324\n",
    "## 'toxic' comments flagged ::  1312 comments out of 1840 ::  71.3 %\n",
    "\n",
    "#~~~~~~~~~~~~~~~~~~~~~~~~~~~~~~~~~~~~~~~~~~~~~~~~~~~~~~~~~~~~~~~~~~~~~~~~~~~~~~~~~~~~~~~~~~~~#\n",
    "#### TARGET 'severe_toxic' ##### accuracy 0.98977622450576397\n",
    "## 'severe_toxic' comments flagged ::  0 comments  out of 196 :C ::  0.0 %\n",
    "\n",
    "#~~~~~~~~~~~~~~~~~~~~~~~~~~~~~~~~~~~~~~~~~~~~~~~~~~~~~~~~~~~~~~~~~~~~~~~~~~~~~~~~~~~~~~~~~~~~#\n",
    "#### TARGET 'obscene' ##### accuracy 0.97647488393928328\n",
    "## 'obscene' comments flagged ::  690 comments out of 1017 ::  67.85 %\n",
    "\n",
    "#~~~~~~~~~~~~~~~~~~~~~~~~~~~~~~~~~~~~~~~~~~~~~~~~~~~~~~~~~~~~~~~~~~~~~~~~~~~~~~~~~~~~~~~~~~~~#\n",
    "#### TARGET 'threat_comment' ##### accuracy 0.99619216524959575\n",
    "## 'threat_comment' comments flagged ::  6 comments out of 64 ::  9.38 % \n",
    "\n",
    "#~~~~~~~~~~~~~~~~~~~~~~~~~~~~~~~~~~~~~~~~~~~~~~~~~~~~~~~~~~~~~~~~~~~~~~~~~~~~~~~~~~~~~~~~~~~~#\n",
    "#### TARGET 'insult_comment' ##### accuracy 0.96901570079808041\n",
    "## 'insult_comment' comments flagged ::  591 comments out of 954 ::  61.95 %\n",
    "\n",
    "#~~~~~~~~~~~~~~~~~~~~~~~~~~~~~~~~~~~~~~~~~~~~~~~~~~~~~~~~~~~~~~~~~~~~~~~~~~~~~~~~~~~~~~~~~~~~#\n",
    "#### TARGET 'identity_hate' ##### accuracy 0.99050649418392367\n",
    "## 'identity_hate' comments flagged ::  6 comments out of 166 ::  3.61 %"
   ]
  },
  {
   "cell_type": "code",
   "execution_count": 10,
   "metadata": {
    "collapsed": true
   },
   "outputs": [],
   "source": [
    "## (['problem_comment', 'toxic', 'severe_toxic', 'obscene', 'threat_comment', 'insult_comment', 'identity_hate'])\n",
    "\n",
    "\n",
    "X = df1.drop(['comment_text_1', 'id', 'problem_comment', 'toxic', 'severe_toxic', 'obscene', 'threat_comment', 'insult_comment', 'identity_hate'], axis=1)\n",
    "Y = df1[['problem_comment']]\n",
    "\n",
    "X_train, X_test, y_train, y_test = train_test_split(X, Y, test_size=0.2, random_state=1337)"
   ]
  },
  {
   "cell_type": "code",
   "execution_count": 11,
   "metadata": {},
   "outputs": [
    {
     "data": {
      "text/html": [
       "<div>\n",
       "<style>\n",
       "    .dataframe thead tr:only-child th {\n",
       "        text-align: right;\n",
       "    }\n",
       "\n",
       "    .dataframe thead th {\n",
       "        text-align: left;\n",
       "    }\n",
       "\n",
       "    .dataframe tbody tr th {\n",
       "        vertical-align: top;\n",
       "    }\n",
       "</style>\n",
       "<table border=\"1\" class=\"dataframe\">\n",
       "  <thead>\n",
       "    <tr style=\"text-align: right;\">\n",
       "      <th></th>\n",
       "      <th>leng</th>\n",
       "      <th>CAPS</th>\n",
       "      <th>q_marks</th>\n",
       "      <th>x_marks</th>\n",
       "      <th>BadWords</th>\n",
       "      <th>abc</th>\n",
       "      <th>abide</th>\n",
       "      <th>ability</th>\n",
       "      <th>abortion</th>\n",
       "      <th>absence</th>\n",
       "      <th>...</th>\n",
       "      <th>younger</th>\n",
       "      <th>youre</th>\n",
       "      <th>yourselfgo</th>\n",
       "      <th>youth</th>\n",
       "      <th>youtube</th>\n",
       "      <th>yugoslavia</th>\n",
       "      <th>zealand</th>\n",
       "      <th>zero</th>\n",
       "      <th>zionist</th>\n",
       "      <th>zone</th>\n",
       "    </tr>\n",
       "  </thead>\n",
       "  <tbody>\n",
       "    <tr>\n",
       "      <th>0</th>\n",
       "      <td>83</td>\n",
       "      <td>3</td>\n",
       "      <td>1</td>\n",
       "      <td>0</td>\n",
       "      <td>1</td>\n",
       "      <td>0</td>\n",
       "      <td>0</td>\n",
       "      <td>0</td>\n",
       "      <td>0</td>\n",
       "      <td>0</td>\n",
       "      <td>...</td>\n",
       "      <td>0</td>\n",
       "      <td>0</td>\n",
       "      <td>0</td>\n",
       "      <td>0</td>\n",
       "      <td>0</td>\n",
       "      <td>0</td>\n",
       "      <td>0</td>\n",
       "      <td>0</td>\n",
       "      <td>0</td>\n",
       "      <td>0</td>\n",
       "    </tr>\n",
       "  </tbody>\n",
       "</table>\n",
       "<p>1 rows × 4005 columns</p>\n",
       "</div>"
      ],
      "text/plain": [
       "   leng  CAPS  q_marks  x_marks  BadWords  abc  abide  ability  abortion  \\\n",
       "0    83     3        1        0         1    0      0        0         0   \n",
       "\n",
       "   absence  ...   younger  youre  yourselfgo  youth  youtube  yugoslavia  \\\n",
       "0        0  ...         0      0           0      0        0           0   \n",
       "\n",
       "   zealand  zero  zionist  zone  \n",
       "0        0     0        0     0  \n",
       "\n",
       "[1 rows x 4005 columns]"
      ]
     },
     "execution_count": 11,
     "metadata": {},
     "output_type": "execute_result"
    }
   ],
   "source": [
    "X.head(1)"
   ]
  },
  {
   "cell_type": "code",
   "execution_count": 12,
   "metadata": {},
   "outputs": [
    {
     "name": "stdout",
     "output_type": "stream",
     "text": [
      "Iteration 1, loss = 0.67941391\n",
      "Iteration 2, loss = 0.42004220\n",
      "Iteration 3, loss = 0.31597551\n",
      "Iteration 4, loss = 0.25125101\n",
      "Iteration 5, loss = 0.21372223\n",
      "Iteration 6, loss = 0.18646501\n",
      "Iteration 7, loss = 0.16726999\n",
      "Iteration 8, loss = 0.15341646\n",
      "Iteration 9, loss = 0.14412650\n",
      "Iteration 10, loss = 0.13431388\n",
      "Iteration 11, loss = 0.13068197\n",
      "Iteration 12, loss = 0.12470939\n",
      "Iteration 13, loss = 0.12162001\n",
      "Iteration 14, loss = 0.11697169\n",
      "Iteration 15, loss = 0.11795835\n",
      "Iteration 16, loss = 0.11439378\n",
      "Iteration 17, loss = 0.11343099\n",
      "Iteration 18, loss = 0.11093033\n",
      "Iteration 19, loss = 0.11032436\n",
      "Iteration 20, loss = 0.10933391\n",
      "Iteration 21, loss = 0.10876329\n",
      "Iteration 22, loss = 0.10547224\n",
      "Iteration 23, loss = 0.10425454\n",
      "Iteration 24, loss = 0.10523255\n",
      "Iteration 25, loss = 0.10474580\n",
      "Iteration 26, loss = 0.10403847\n",
      "Iteration 27, loss = 0.10427701\n",
      "Iteration 28, loss = 0.10445096\n",
      "Iteration 29, loss = 0.10368329\n",
      "Iteration 30, loss = 0.10323308\n",
      "Iteration 31, loss = 0.10320785\n",
      "Iteration 32, loss = 0.10265429\n",
      "Iteration 33, loss = 0.10225285\n",
      "Iteration 34, loss = 0.10150926\n",
      "Iteration 35, loss = 0.09859127\n",
      "Iteration 36, loss = 0.10196098\n",
      "Iteration 37, loss = 0.10014950\n",
      "Iteration 38, loss = 0.10138431\n",
      "Training loss did not improve more than tol=0.000100 for two consecutive epochs. Stopping.\n"
     ]
    },
    {
     "data": {
      "text/plain": [
       "MLPClassifier(activation='relu', alpha=1e-05, batch_size='auto', beta_1=0.9,\n",
       "       beta_2=0.999, early_stopping=False, epsilon=1e-08,\n",
       "       hidden_layer_sizes=(6, 4), learning_rate='constant',\n",
       "       learning_rate_init=0.001, max_iter=400, momentum=0.9,\n",
       "       nesterovs_momentum=True, power_t=0.5, random_state=1, shuffle=True,\n",
       "       solver='adam', tol=0.0001, validation_fraction=0.1, verbose=True,\n",
       "       warm_start=False)"
      ]
     },
     "execution_count": 12,
     "metadata": {},
     "output_type": "execute_result"
    }
   ],
   "source": [
    "clf = MLPClassifier(activation='relu', alpha=1e-5, batch_size='auto',\n",
    "              beta_1=0.9, beta_2=0.999, early_stopping=False,\n",
    "              epsilon=1e-08, hidden_layer_sizes=(6, 4), learning_rate='constant',\n",
    "              learning_rate_init=0.001, max_iter=400, momentum=0.9,\n",
    "              nesterovs_momentum=True, power_t=0.5, random_state=1, shuffle=True,\n",
    "              solver='adam', tol=0.0001, validation_fraction=0.1, verbose=True,\n",
    "              warm_start=False)\n",
    "\n",
    "\n",
    "\n",
    "\n",
    "clf.fit(X_train, y_train)"
   ]
  },
  {
   "cell_type": "code",
   "execution_count": 13,
   "metadata": {},
   "outputs": [
    {
     "data": {
      "text/plain": [
       "0.95216733608053827"
      ]
     },
     "execution_count": 13,
     "metadata": {},
     "output_type": "execute_result"
    }
   ],
   "source": [
    "clf.score(X_test, y_test)"
   ]
  },
  {
   "cell_type": "code",
   "execution_count": 14,
   "metadata": {
    "collapsed": true
   },
   "outputs": [],
   "source": [
    "y_true = y_test\n",
    "y_pred = clf.predict(X_test)\n",
    "matrix_ = confusion_matrix(y_true, y_pred)\n"
   ]
  },
  {
   "cell_type": "code",
   "execution_count": 15,
   "metadata": {},
   "outputs": [
    {
     "name": "stdout",
     "output_type": "stream",
     "text": [
      "[[16900   314]\n",
      " [  603  1354]]\n"
     ]
    }
   ],
   "source": [
    "print(matrix_)"
   ]
  },
  {
   "cell_type": "code",
   "execution_count": 16,
   "metadata": {},
   "outputs": [
    {
     "name": "stdout",
     "output_type": "stream",
     "text": [
      "\n",
      "Problem comments TOTAL ::  1957\n",
      "\n",
      "Problem comments flagged ::  1354 comments ::  69.19 %\n",
      "\n",
      "Problem comments not flagged ::  603 comments ::  30.81 %\n",
      "\n",
      "\n",
      "(these percentages have been rounded to 2 decimal places)\n"
     ]
    }
   ],
   "source": [
    "prob_cr = matrix_[1][1]\n",
    "prob_icr = matrix_[1][0]\n",
    "prob_tot = prob_cr + prob_icr\n",
    "\n",
    "prob_cr_perc = prob_cr / prob_tot * 100\n",
    "prob_icr_perc = prob_icr / prob_tot * 100\n",
    "\n",
    "\n",
    "\n",
    "\n",
    "print('\\nProblem comments TOTAL :: ' , prob_tot )\n",
    "print('\\nProblem comments flagged :: ' , prob_cr, 'comments', ':: ', str(round(prob_cr_perc, 2)) , '%' )\n",
    "print('\\nProblem comments not flagged :: ' , prob_icr, 'comments', ':: ', str(round(prob_icr_perc, 2)) , '%' )\n",
    "print('\\n\\n(these percentages have been rounded to 2 decimal places)')"
   ]
  },
  {
   "cell_type": "code",
   "execution_count": null,
   "metadata": {
    "collapsed": true
   },
   "outputs": [],
   "source": []
  },
  {
   "cell_type": "code",
   "execution_count": null,
   "metadata": {
    "collapsed": true
   },
   "outputs": [],
   "source": []
  },
  {
   "cell_type": "code",
   "execution_count": null,
   "metadata": {
    "collapsed": true
   },
   "outputs": [],
   "source": []
  },
  {
   "cell_type": "code",
   "execution_count": null,
   "metadata": {
    "collapsed": true
   },
   "outputs": [],
   "source": []
  }
 ],
 "metadata": {
  "kernelspec": {
   "display_name": "Python 3",
   "language": "python",
   "name": "python3"
  },
  "language_info": {
   "codemirror_mode": {
    "name": "ipython",
    "version": 3
   },
   "file_extension": ".py",
   "mimetype": "text/x-python",
   "name": "python",
   "nbconvert_exporter": "python",
   "pygments_lexer": "ipython3",
   "version": "3.6.3"
  },
  "varInspector": {
   "cols": {
    "lenName": 16,
    "lenType": 16,
    "lenVar": 40
   },
   "kernels_config": {
    "python": {
     "delete_cmd_postfix": "",
     "delete_cmd_prefix": "del ",
     "library": "var_list.py",
     "varRefreshCmd": "print(var_dic_list())"
    },
    "r": {
     "delete_cmd_postfix": ") ",
     "delete_cmd_prefix": "rm(",
     "library": "var_list.r",
     "varRefreshCmd": "cat(var_dic_list()) "
    }
   },
   "types_to_exclude": [
    "module",
    "function",
    "builtin_function_or_method",
    "instance",
    "_Feature"
   ],
   "window_display": false
  }
 },
 "nbformat": 4,
 "nbformat_minor": 2
}
